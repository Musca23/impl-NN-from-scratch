{
 "cells": [
  {
   "cell_type": "markdown",
   "metadata": {},
   "source": [
    "### Import basic libraries"
   ]
  },
  {
   "cell_type": "code",
   "execution_count": 1,
   "metadata": {},
   "outputs": [],
   "source": [
    "import statistics \n",
    "import pandas as pd\n",
    "import numpy as np\n",
    "import matplotlib.pyplot as plt\n",
    "from sklearn import metrics\n",
    "from sklearn.preprocessing import OneHotEncoder\n",
    "import scikitplot as skplt\n",
    "import matplotlib\n",
    "matplotlib.rcParams['figure.figsize'] = (10.0, 10.0)\n",
    "from matplotlib import pyplot as plt\n",
    "import numpy as np\n",
    "from sklearn.metrics import accuracy_score\n",
    "from sklearn.utils import shuffle\n",
    "from sklearn.model_selection import train_test_split\n",
    "from tqdm import tqdm # interessante, leggere più documentazione\n",
    "from IPython import display"
   ]
  },
  {
   "cell_type": "markdown",
   "metadata": {},
   "source": [
    "## Funzioni utili per visualizzazione e classifiers evaluation"
   ]
  },
  {
   "cell_type": "markdown",
   "metadata": {},
   "source": [
    "#### Display correlations among the attributes"
   ]
  },
  {
   "cell_type": "code",
   "execution_count": 2,
   "metadata": {},
   "outputs": [],
   "source": [
    "def display_corr(df, corr_threshold = 0.8):\n",
    "    print('Correlations')\n",
    "    print(\"Att. A\\tAtt. B\\tCorr(A,B)\")\n",
    "    for i in range(0, len(df.columns)):\n",
    "        for j in range(i+1, len(df.columns)):\n",
    "            corr = df[df.columns[i]].corr(df[df.columns[j]])\n",
    "            if  corr > corr_threshold:\n",
    "                print(df.columns[i] + \"\\t\" + df.columns[j] + \"\\t\" + '{:.4f}'.format(corr))"
   ]
  },
  {
   "cell_type": "markdown",
   "metadata": {},
   "source": [
    "#### Plot the whole array of scatter plots"
   ]
  },
  {
   "cell_type": "code",
   "execution_count": 3,
   "metadata": {},
   "outputs": [],
   "source": [
    "def corr_plot(label, label_source):\n",
    "    nrows, ncols = 5, 6\n",
    "    index = 0\n",
    "    f, axs = plt.subplots(nrows=nrows, ncols=ncols, figsize=(50,30))\n",
    "    for i in range(len(cs_num_columns)):\n",
    "        for j in range(i+1,len(cs_num_columns)):\n",
    "            axs[int(index/ncols)][index%ncols].scatter(test_set.iloc[:, i].values, test_set.iloc[:, j].values, c=label, s=25, cmap='cividis')\n",
    "            axs[int(index/ncols)][index%ncols].set_title('Correlation of ' + cs.columns[i] + ' and ' + cs.columns[j], fontdict={'fontsize': 'xx-large', 'fontweight' : 'bold'})\n",
    "            axs[int(index/ncols)][index%ncols].set_xlabel(cs.columns[i], fontdict={'fontsize': 'xx-large', 'fontweight' : 'bold'})\n",
    "            axs[int(index/ncols)][index%ncols].set_ylabel(cs.columns[j], fontdict={'fontsize': 'xx-large', 'fontweight' : 'bold'})\n",
    "            index = index + 1\n",
    "    for i in range(int(index/ncols),nrows):\n",
    "        for j in range(index%ncols,ncols):\n",
    "            axs[i][j].remove()\n",
    "    plt.suptitle((\"Visualization of the \" + label_source +  \" with respect to different feature spaces\"), fontsize=28, fontweight='bold')\n",
    "    plt.show()"
   ]
  },
  {
   "cell_type": "markdown",
   "metadata": {},
   "source": [
    "#### Print the classification scores"
   ]
  },
  {
   "cell_type": "code",
   "execution_count": 4,
   "metadata": {},
   "outputs": [],
   "source": [
    "def report_scores(test_label, test_pred):\n",
    "    print(classification_report(test_label, \n",
    "                            test_pred, \n",
    "                            target_names=['0', '1']))"
   ]
  },
  {
   "cell_type": "markdown",
   "metadata": {},
   "source": [
    "#### Identify the misclassification of a classifier"
   ]
  },
  {
   "cell_type": "code",
   "execution_count": 5,
   "metadata": {},
   "outputs": [],
   "source": [
    "def spot_errors(test_label, test_pred):\n",
    "    spot_errors = []\n",
    "    for i in range(len(test_label)):\n",
    "        if test_label[i] != test_pred[i]:\n",
    "            spot_errors.append('darkred')\n",
    "        else:\n",
    "            spot_errors.append('darkgray')\n",
    "    return spot_errors"
   ]
  },
  {
   "cell_type": "markdown",
   "metadata": {},
   "source": [
    "#### Compares the true labels with the one predicted by a classifier while displaying the misclassification"
   ]
  },
  {
   "cell_type": "code",
   "execution_count": 6,
   "metadata": {},
   "outputs": [],
   "source": [
    "def classification_visualizer(test_set, test_label, test_pred, classifier_name):\n",
    "    f, axs = plt.subplots(nrows=1, ncols=3, figsize=(24,8))\n",
    "    a, b = 'I', 'Ep'\n",
    "    errors = spot_errors(test_label, test_pred)\n",
    "    labels = [test_label, test_pred, errors]\n",
    "    titles = ['True Labels', 'Predicted Labels', 'Misclassifications']\n",
    "\n",
    "    for i in range(3):\n",
    "        axs[i].scatter(test_set[a], test_set[b], c=labels[i], s=20, cmap='cividis')\n",
    "        axs[i].set_title(titles[i])\n",
    "        axs[i].set_xlabel(a, fontdict={'fontsize': 'large'})\n",
    "        axs[i].set_ylabel(b, fontdict={'fontsize': 'large'})\n",
    "\n",
    "    plt.suptitle(('Visualization of the ' + classifier_name + ' classifier on the test set'),\n",
    "                 fontsize=24, fontweight='bold')\n",
    "\n",
    "    plt.show()"
   ]
  },
  {
   "cell_type": "markdown",
   "metadata": {},
   "source": [
    "#### Plot the confusion matrix of a classifier"
   ]
  },
  {
   "cell_type": "code",
   "execution_count": 7,
   "metadata": {},
   "outputs": [],
   "source": [
    "from sklearn.metrics import confusion_matrix\n",
    "from sklearn.metrics import plot_confusion_matrix\n",
    "\n",
    "#compute and plot the confusion matrix \n",
    "def plot_c_matrix(test_set, test_label, test_pred, classifier, classifier_name, axs=None):\n",
    "    cm = confusion_matrix(test_label, test_pred)\n",
    "    if axs:\n",
    "        plot_confusion_matrix(classifier, test_set, test_label, ax=axs)\n",
    "    else:\n",
    "        plot_confusion_matrix(classifier, test_set, test_label)\n",
    "    plt.title('Confusion matrix of ' + classifier_name)\n",
    "    plt.show() "
   ]
  },
  {
   "cell_type": "markdown",
   "metadata": {},
   "source": [
    "#### Plot the decision boundary of a classifier"
   ]
  },
  {
   "cell_type": "code",
   "execution_count": 8,
   "metadata": {},
   "outputs": [],
   "source": [
    "import itertools\n",
    "import matplotlib.gridspec as gridspec\n",
    "from mlxtend.plotting import plot_decision_regions\n",
    "from sklearn.decomposition import PCA\n",
    "\n",
    "#compute and plot the decision boundary\n",
    "\n",
    "def plot_decision_boundary(train_set, train_label, classifier, classifier_name, axs=None):\n",
    "    X = train_set#.values\n",
    "    y = np.array(train_label)\n",
    "    \n",
    "    pca = PCA(n_components = 2)\n",
    "    X = pca.fit_transform(X)\n",
    "    gs = gridspec.GridSpec(2, 2)\n",
    "    fig = plt.figure(figsize=(20,10))\n",
    "\n",
    "    labels = [classifier_name]\n",
    "    for clf, lab, grd in zip([classifier],\n",
    "                         labels,\n",
    "                         itertools.product([0, 1], repeat=2)):\n",
    "\n",
    "        clf.fit(X, y)\n",
    "        ax = plt.subplot(gs[grd[0], grd[1]])\n",
    "        if axs:\n",
    "            fig = plot_decision_regions(X=X, y=y, clf=clf, legend=2, ax=axs)\n",
    "        else:\n",
    "            fig = plot_decision_regions(X=X, y=y, clf=clf, legend=2)\n",
    "        plt.title('Decision boundary of ' + lab)"
   ]
  },
  {
   "cell_type": "markdown",
   "metadata": {},
   "source": [
    "## Loading the data set\n",
    "### Monk1\n",
    "\n",
    "Read the .csv file containing the data. The first line contains the list of attributes. The data is assigned to a Pandas dataframe."
   ]
  },
  {
   "cell_type": "code",
   "execution_count": 9,
   "metadata": {},
   "outputs": [],
   "source": [
    "col_names = ['class', 'col_1', 'col_2', 'col_3', 'col_4', 'col_5', 'col_6', 'Id']\n",
    "monk_train_1 = pd.read_csv('Monks/monks-1.train', sep=\" \", names=col_names)\n",
    "monk_train_1.set_index('Id', inplace=True)"
   ]
  },
  {
   "cell_type": "code",
   "execution_count": 10,
   "metadata": {},
   "outputs": [
    {
     "data": {
      "text/plain": [
       "Id\n",
       "data_5      1\n",
       "data_6      1\n",
       "data_19     1\n",
       "data_22     1\n",
       "data_27     1\n",
       "           ..\n",
       "data_416    1\n",
       "data_426    1\n",
       "data_428    1\n",
       "data_430    1\n",
       "data_432    1\n",
       "Name: class, Length: 124, dtype: int64"
      ]
     },
     "execution_count": 10,
     "metadata": {},
     "output_type": "execute_result"
    }
   ],
   "source": [
    "monk_train_1['class']"
   ]
  },
  {
   "cell_type": "markdown",
   "metadata": {},
   "source": [
    "### Useful binary class visualization"
   ]
  },
  {
   "cell_type": "code",
   "execution_count": 11,
   "metadata": {},
   "outputs": [
    {
     "data": {
      "text/plain": [
       "<AxesSubplot:xlabel='class'>"
      ]
     },
     "execution_count": 11,
     "metadata": {},
     "output_type": "execute_result"
    },
    {
     "data": {
      "image/png": "[encoded data removed]",
      "text/plain": [
       "<Figure size 720x720 with 1 Axes>"
      ]
     },
     "metadata": {
      "needs_background": "light"
     },
     "output_type": "display_data"
    }
   ],
   "source": [
    "monk_train_1.groupby(monk_train_1['class']).sum().plot(kind=\"bar\")"
   ]
  },
  {
   "cell_type": "markdown",
   "metadata": {},
   "source": [
    "## Labels creation\n",
    "Dropping the \"class\" column from the Monk dataset: this represents the target *y*."
   ]
  },
  {
   "cell_type": "code",
   "execution_count": 12,
   "metadata": {},
   "outputs": [],
   "source": [
    "labels = monk_train_1['class']"
   ]
  },
  {
   "cell_type": "code",
   "execution_count": 13,
   "metadata": {},
   "outputs": [],
   "source": [
    "monk_train_1.drop(columns=['class'], inplace=True)\n",
    "# labels = monk_train_1.pop('class')"
   ]
  },
  {
   "cell_type": "code",
   "execution_count": 14,
   "metadata": {},
   "outputs": [
    {
     "data": {
      "text/plain": [
       "Id\n",
       "data_5      1\n",
       "data_6      1\n",
       "data_19     1\n",
       "data_22     1\n",
       "data_27     1\n",
       "           ..\n",
       "data_416    1\n",
       "data_426    1\n",
       "data_428    1\n",
       "data_430    1\n",
       "data_432    1\n",
       "Name: class, Length: 124, dtype: int64"
      ]
     },
     "execution_count": 14,
     "metadata": {},
     "output_type": "execute_result"
    }
   ],
   "source": [
    "labels"
   ]
  },
  {
   "cell_type": "code",
   "execution_count": 15,
   "metadata": {},
   "outputs": [],
   "source": [
    "labels = pd.Series(labels).to_numpy() # from pd Series into numpy array"
   ]
  },
  {
   "cell_type": "code",
   "execution_count": 16,
   "metadata": {},
   "outputs": [
    {
     "data": {
      "text/plain": [
       "(124,)"
      ]
     },
     "execution_count": 16,
     "metadata": {},
     "output_type": "execute_result"
    }
   ],
   "source": [
    "labels.shape"
   ]
  },
  {
   "cell_type": "code",
   "execution_count": 17,
   "metadata": {},
   "outputs": [],
   "source": [
    "labels = np.expand_dims(labels, 1) # add a flat dimension"
   ]
  },
  {
   "cell_type": "markdown",
   "metadata": {},
   "source": [
    "⬆ [documentation here](https://numpy.org/doc/stable/reference/generated/numpy.expand_dims.html)"
   ]
  },
  {
   "cell_type": "code",
   "execution_count": 18,
   "metadata": {},
   "outputs": [
    {
     "data": {
      "text/plain": [
       "(124, 1)"
      ]
     },
     "execution_count": 18,
     "metadata": {},
     "output_type": "execute_result"
    }
   ],
   "source": [
    "labels.shape"
   ]
  },
  {
   "cell_type": "code",
   "execution_count": 19,
   "metadata": {},
   "outputs": [
    {
     "data": {
      "text/html": [
       "<div>\n",
       "<style scoped>\n",
       "    .dataframe tbody tr th:only-of-type {\n",
       "        vertical-align: middle;\n",
       "    }\n",
       "\n",
       "    .dataframe tbody tr th {\n",
       "        vertical-align: top;\n",
       "    }\n",
       "\n",
       "    .dataframe thead th {\n",
       "        text-align: right;\n",
       "    }\n",
       "</style>\n",
       "<table border=\"1\" class=\"dataframe\">\n",
       "  <thead>\n",
       "    <tr style=\"text-align: right;\">\n",
       "      <th></th>\n",
       "      <th>col_1</th>\n",
       "      <th>col_2</th>\n",
       "      <th>col_3</th>\n",
       "      <th>col_4</th>\n",
       "      <th>col_5</th>\n",
       "      <th>col_6</th>\n",
       "    </tr>\n",
       "    <tr>\n",
       "      <th>Id</th>\n",
       "      <th></th>\n",
       "      <th></th>\n",
       "      <th></th>\n",
       "      <th></th>\n",
       "      <th></th>\n",
       "      <th></th>\n",
       "    </tr>\n",
       "  </thead>\n",
       "  <tbody>\n",
       "    <tr>\n",
       "      <th>data_5</th>\n",
       "      <td>1</td>\n",
       "      <td>1</td>\n",
       "      <td>1</td>\n",
       "      <td>1</td>\n",
       "      <td>3</td>\n",
       "      <td>1</td>\n",
       "    </tr>\n",
       "    <tr>\n",
       "      <th>data_6</th>\n",
       "      <td>1</td>\n",
       "      <td>1</td>\n",
       "      <td>1</td>\n",
       "      <td>1</td>\n",
       "      <td>3</td>\n",
       "      <td>2</td>\n",
       "    </tr>\n",
       "    <tr>\n",
       "      <th>data_19</th>\n",
       "      <td>1</td>\n",
       "      <td>1</td>\n",
       "      <td>1</td>\n",
       "      <td>3</td>\n",
       "      <td>2</td>\n",
       "      <td>1</td>\n",
       "    </tr>\n",
       "    <tr>\n",
       "      <th>data_22</th>\n",
       "      <td>1</td>\n",
       "      <td>1</td>\n",
       "      <td>1</td>\n",
       "      <td>3</td>\n",
       "      <td>3</td>\n",
       "      <td>2</td>\n",
       "    </tr>\n",
       "    <tr>\n",
       "      <th>data_27</th>\n",
       "      <td>1</td>\n",
       "      <td>1</td>\n",
       "      <td>2</td>\n",
       "      <td>1</td>\n",
       "      <td>2</td>\n",
       "      <td>1</td>\n",
       "    </tr>\n",
       "    <tr>\n",
       "      <th>...</th>\n",
       "      <td>...</td>\n",
       "      <td>...</td>\n",
       "      <td>...</td>\n",
       "      <td>...</td>\n",
       "      <td>...</td>\n",
       "      <td>...</td>\n",
       "    </tr>\n",
       "    <tr>\n",
       "      <th>data_416</th>\n",
       "      <td>3</td>\n",
       "      <td>3</td>\n",
       "      <td>2</td>\n",
       "      <td>1</td>\n",
       "      <td>4</td>\n",
       "      <td>2</td>\n",
       "    </tr>\n",
       "    <tr>\n",
       "      <th>data_426</th>\n",
       "      <td>3</td>\n",
       "      <td>3</td>\n",
       "      <td>2</td>\n",
       "      <td>3</td>\n",
       "      <td>1</td>\n",
       "      <td>2</td>\n",
       "    </tr>\n",
       "    <tr>\n",
       "      <th>data_428</th>\n",
       "      <td>3</td>\n",
       "      <td>3</td>\n",
       "      <td>2</td>\n",
       "      <td>3</td>\n",
       "      <td>2</td>\n",
       "      <td>2</td>\n",
       "    </tr>\n",
       "    <tr>\n",
       "      <th>data_430</th>\n",
       "      <td>3</td>\n",
       "      <td>3</td>\n",
       "      <td>2</td>\n",
       "      <td>3</td>\n",
       "      <td>3</td>\n",
       "      <td>2</td>\n",
       "    </tr>\n",
       "    <tr>\n",
       "      <th>data_432</th>\n",
       "      <td>3</td>\n",
       "      <td>3</td>\n",
       "      <td>2</td>\n",
       "      <td>3</td>\n",
       "      <td>4</td>\n",
       "      <td>2</td>\n",
       "    </tr>\n",
       "  </tbody>\n",
       "</table>\n",
       "<p>124 rows × 6 columns</p>\n",
       "</div>"
      ],
      "text/plain": [
       "          col_1  col_2  col_3  col_4  col_5  col_6\n",
       "Id                                                \n",
       "data_5        1      1      1      1      3      1\n",
       "data_6        1      1      1      1      3      2\n",
       "data_19       1      1      1      3      2      1\n",
       "data_22       1      1      1      3      3      2\n",
       "data_27       1      1      2      1      2      1\n",
       "...         ...    ...    ...    ...    ...    ...\n",
       "data_416      3      3      2      1      4      2\n",
       "data_426      3      3      2      3      1      2\n",
       "data_428      3      3      2      3      2      2\n",
       "data_430      3      3      2      3      3      2\n",
       "data_432      3      3      2      3      4      2\n",
       "\n",
       "[124 rows x 6 columns]"
      ]
     },
     "execution_count": 19,
     "metadata": {},
     "output_type": "execute_result"
    }
   ],
   "source": [
    "monk_train_1"
   ]
  },
  {
   "cell_type": "markdown",
   "metadata": {},
   "source": [
    "## Types of Attributes and basic checks\n",
    "\n",
    "Check the data integrity, that is whether there are any empty cells or corrupted data. \n",
    "We will use for this purpose the Pandas function **info()**, which checks if there is any \n",
    "null value in any column. This function also checks data type for each column, as well as \n",
    "number of each data types and number of observations (rows)."
   ]
  },
  {
   "cell_type": "code",
   "execution_count": 20,
   "metadata": {},
   "outputs": [
    {
     "name": "stdout",
     "output_type": "stream",
     "text": [
      "<class 'pandas.core.frame.DataFrame'>\n",
      "Index: 124 entries, data_5 to data_432\n",
      "Data columns (total 6 columns):\n",
      " #   Column  Non-Null Count  Dtype\n",
      "---  ------  --------------  -----\n",
      " 0   col_1   124 non-null    int64\n",
      " 1   col_2   124 non-null    int64\n",
      " 2   col_3   124 non-null    int64\n",
      " 3   col_4   124 non-null    int64\n",
      " 4   col_5   124 non-null    int64\n",
      " 5   col_6   124 non-null    int64\n",
      "dtypes: int64(6)\n",
      "memory usage: 11.8+ KB\n"
     ]
    }
   ],
   "source": [
    "monk_train_1.info()"
   ]
  },
  {
   "cell_type": "code",
   "execution_count": 21,
   "metadata": {
    "scrolled": true
   },
   "outputs": [
    {
     "data": {
      "text/plain": [
       "col_1    int64\n",
       "col_2    int64\n",
       "col_3    int64\n",
       "col_4    int64\n",
       "col_5    int64\n",
       "col_6    int64\n",
       "dtype: object"
      ]
     },
     "execution_count": 21,
     "metadata": {},
     "output_type": "execute_result"
    }
   ],
   "source": [
    "monk_train_1.dtypes #return the type of each attribute"
   ]
  },
  {
   "cell_type": "markdown",
   "metadata": {},
   "source": [
    "## One-hot Encoding\n",
    "\n",
    "Documentation here: [sklearn.preprocessing.OneHotEncoder](https://scikit-learn.org/stable/modules/generated/sklearn.preprocessing.OneHotEncoder.html)\n",
    "\n",
    "N.B.: attenzione alle dimensioni dopo l'encoding!"
   ]
  },
  {
   "cell_type": "code",
   "execution_count": 22,
   "metadata": {},
   "outputs": [],
   "source": [
    "# 1-hot encoding (and transform dataframe to numpy array)\n",
    "encoder = OneHotEncoder()"
   ]
  },
  {
   "cell_type": "code",
   "execution_count": 23,
   "metadata": {},
   "outputs": [
    {
     "data": {
      "text/plain": [
       "OneHotEncoder()"
      ]
     },
     "execution_count": 23,
     "metadata": {},
     "output_type": "execute_result"
    }
   ],
   "source": [
    "encoder.fit(monk_train_1)"
   ]
  },
  {
   "cell_type": "code",
   "execution_count": 24,
   "metadata": {},
   "outputs": [
    {
     "data": {
      "text/plain": [
       "[array([1, 2, 3], dtype=int64),\n",
       " array([1, 2, 3], dtype=int64),\n",
       " array([1, 2], dtype=int64),\n",
       " array([1, 2, 3], dtype=int64),\n",
       " array([1, 2, 3, 4], dtype=int64),\n",
       " array([1, 2], dtype=int64)]"
      ]
     },
     "execution_count": 24,
     "metadata": {},
     "output_type": "execute_result"
    }
   ],
   "source": [
    "encoder.categories_"
   ]
  },
  {
   "cell_type": "code",
   "execution_count": 25,
   "metadata": {},
   "outputs": [],
   "source": [
    "monk_dataset = encoder.transform(monk_train_1).toarray()"
   ]
  },
  {
   "cell_type": "code",
   "execution_count": 26,
   "metadata": {},
   "outputs": [
    {
     "data": {
      "text/plain": [
       "array([[1., 0., 0., ..., 0., 1., 0.],\n",
       "       [1., 0., 0., ..., 0., 0., 1.],\n",
       "       [1., 0., 0., ..., 0., 1., 0.],\n",
       "       ...,\n",
       "       [0., 0., 1., ..., 0., 0., 1.],\n",
       "       [0., 0., 1., ..., 0., 0., 1.],\n",
       "       [0., 0., 1., ..., 1., 0., 1.]])"
      ]
     },
     "execution_count": 26,
     "metadata": {},
     "output_type": "execute_result"
    }
   ],
   "source": [
    "monk_dataset"
   ]
  },
  {
   "cell_type": "code",
   "execution_count": 27,
   "metadata": {},
   "outputs": [
    {
     "data": {
      "text/plain": [
       "(124, 17)"
      ]
     },
     "execution_count": 27,
     "metadata": {},
     "output_type": "execute_result"
    }
   ],
   "source": [
    "# importante: controllo dimensioni\n",
    "monk_dataset.shape"
   ]
  },
  {
   "cell_type": "markdown",
   "metadata": {},
   "source": [
    "## Splitting\n",
    "N.B.: lo splitting attuale si trova dentro al construttore della NN, poi portare questo modulo fuori.\n",
    "\n",
    "- Training & validation set\n",
    "- Input and Output labels (supervised learning)"
   ]
  },
  {
   "cell_type": "code",
   "execution_count": 28,
   "metadata": {},
   "outputs": [],
   "source": [
    "# Format:\n",
    "# Training set: id inputs target_x target_y (last 2 columns) # to split in TR and VL\n",
    "# Blind Test set: id inputs"
   ]
  },
  {
   "cell_type": "code",
   "execution_count": 29,
   "metadata": {},
   "outputs": [
    {
     "data": {
      "text/plain": [
       "'\\ntrain_size = int(len(ds) * 0.80)\\nval_size = len(ds) - train_size\\nprint(train_size)\\nprint(val_size)'"
      ]
     },
     "execution_count": 29,
     "metadata": {},
     "output_type": "execute_result"
    }
   ],
   "source": [
    "'''\n",
    "train_size = int(len(ds) * 0.80)\n",
    "val_size = len(ds) - train_size\n",
    "print(train_size)\n",
    "print(val_size)'''"
   ]
  },
  {
   "cell_type": "code",
   "execution_count": 30,
   "metadata": {},
   "outputs": [],
   "source": [
    "from sklearn.model_selection import train_test_split\n",
    "train_X, val_X, train_y, val_y = train_test_split(monk_dataset, labels, test_size=0.30)"
   ]
  },
  {
   "cell_type": "code",
   "execution_count": 31,
   "metadata": {},
   "outputs": [
    {
     "data": {
      "text/plain": [
       "'from sklearn.model_selection import train_test_split\\ntrain_set, val_set = train_test_split(ds, test_size=0.20)'"
      ]
     },
     "execution_count": 31,
     "metadata": {},
     "output_type": "execute_result"
    }
   ],
   "source": [
    "'''from sklearn.model_selection import train_test_split\n",
    "train_set, val_set = train_test_split(ds, test_size=0.20)'''"
   ]
  },
  {
   "cell_type": "code",
   "execution_count": 32,
   "metadata": {},
   "outputs": [
    {
     "data": {
      "text/plain": [
       "(86, 17)"
      ]
     },
     "execution_count": 32,
     "metadata": {},
     "output_type": "execute_result"
    }
   ],
   "source": [
    "train_X.shape"
   ]
  },
  {
   "cell_type": "code",
   "execution_count": 33,
   "metadata": {},
   "outputs": [
    {
     "data": {
      "text/plain": [
       "(86, 1)"
      ]
     },
     "execution_count": 33,
     "metadata": {},
     "output_type": "execute_result"
    }
   ],
   "source": [
    "train_y.shape"
   ]
  },
  {
   "cell_type": "code",
   "execution_count": 34,
   "metadata": {},
   "outputs": [
    {
     "data": {
      "text/plain": [
       "(38, 17)"
      ]
     },
     "execution_count": 34,
     "metadata": {},
     "output_type": "execute_result"
    }
   ],
   "source": [
    "val_X.shape"
   ]
  },
  {
   "cell_type": "code",
   "execution_count": 35,
   "metadata": {},
   "outputs": [
    {
     "data": {
      "text/plain": [
       "(38, 1)"
      ]
     },
     "execution_count": 35,
     "metadata": {},
     "output_type": "execute_result"
    }
   ],
   "source": [
    "val_y.shape"
   ]
  },
  {
   "cell_type": "code",
   "execution_count": 36,
   "metadata": {},
   "outputs": [
    {
     "name": "stdout",
     "output_type": "stream",
     "text": [
      "Input TR\n",
      "\n",
      " [[1. 0. 0. ... 0. 0. 1.]\n",
      " [0. 1. 0. ... 0. 0. 1.]\n",
      " [1. 0. 0. ... 0. 0. 1.]\n",
      " ...\n",
      " [0. 1. 0. ... 0. 0. 1.]\n",
      " [0. 0. 1. ... 0. 1. 0.]\n",
      " [0. 0. 1. ... 1. 0. 1.]]\n"
     ]
    }
   ],
   "source": [
    "print(\"Input TR\\n\\n\", train_X)"
   ]
  },
  {
   "cell_type": "code",
   "execution_count": 37,
   "metadata": {},
   "outputs": [
    {
     "name": "stdout",
     "output_type": "stream",
     "text": [
      "Output TR\n",
      "\n",
      " [[0]\n",
      " [0]\n",
      " [1]\n",
      " [1]\n",
      " [0]\n",
      " [0]\n",
      " [0]\n",
      " [1]\n",
      " [1]\n",
      " [0]\n",
      " [0]\n",
      " [0]\n",
      " [0]\n",
      " [1]\n",
      " [0]\n",
      " [1]\n",
      " [1]\n",
      " [0]\n",
      " [1]\n",
      " [0]\n",
      " [1]\n",
      " [0]\n",
      " [1]\n",
      " [0]\n",
      " [0]\n",
      " [0]\n",
      " [0]\n",
      " [0]\n",
      " [0]\n",
      " [1]\n",
      " [0]\n",
      " [1]\n",
      " [1]\n",
      " [1]\n",
      " [0]\n",
      " [0]\n",
      " [1]\n",
      " [0]\n",
      " [1]\n",
      " [0]\n",
      " [0]\n",
      " [1]\n",
      " [0]\n",
      " [0]\n",
      " [1]\n",
      " [1]\n",
      " [1]\n",
      " [0]\n",
      " [1]\n",
      " [0]\n",
      " [1]\n",
      " [0]\n",
      " [1]\n",
      " [1]\n",
      " [1]\n",
      " [0]\n",
      " [1]\n",
      " [1]\n",
      " [0]\n",
      " [0]\n",
      " [0]\n",
      " [0]\n",
      " [0]\n",
      " [1]\n",
      " [0]\n",
      " [1]\n",
      " [1]\n",
      " [1]\n",
      " [0]\n",
      " [1]\n",
      " [0]\n",
      " [0]\n",
      " [1]\n",
      " [1]\n",
      " [0]\n",
      " [1]\n",
      " [0]\n",
      " [0]\n",
      " [0]\n",
      " [1]\n",
      " [1]\n",
      " [1]\n",
      " [0]\n",
      " [0]\n",
      " [1]\n",
      " [1]]\n"
     ]
    }
   ],
   "source": [
    "print(\"Output TR\\n\\n\", train_y)"
   ]
  },
  {
   "cell_type": "markdown",
   "metadata": {},
   "source": [
    "# NN From scratch"
   ]
  },
  {
   "cell_type": "markdown",
   "metadata": {},
   "source": [
    "Fonte: [ahmedbesbes/Neural-Network-from-scratch](https://github.com/ahmedbesbes/Neural-Network-from-scratch)"
   ]
  },
  {
   "cell_type": "markdown",
   "metadata": {},
   "source": [
    "### Activation, loss e altre funzioni:"
   ]
  },
  {
   "cell_type": "code",
   "execution_count": 38,
   "metadata": {},
   "outputs": [],
   "source": [
    "def activation(z, derivative=False):\n",
    "    \"\"\"\n",
    "    Sigmoid activation function:\n",
    "    It handles two modes: normal and derivative mode.\n",
    "    Applies a pointwize operation on vectors\n",
    "    \n",
    "    Parameters:\n",
    "    ---\n",
    "    z: pre-activation vector at layer l\n",
    "        shape (n[l], batch_size)\n",
    "    Returns: \n",
    "    pontwize activation on each element of the input z\n",
    "    \"\"\"\n",
    "    if derivative:\n",
    "        return activation(z) * (1 - activation(z))\n",
    "    else:\n",
    "        return 1 / (1 + np.exp(-z))\n",
    "\n",
    "def cost_function(y_true, y_pred):\n",
    "    \"\"\"\n",
    "    Computes the Mean Square Error between a ground truth vector and a prediction vector\n",
    "    Parameters:\n",
    "    ---\n",
    "    y_true: ground-truth vector\n",
    "    y_pred: prediction vector\n",
    "    Returns:\n",
    "    ---\n",
    "    cost: a scalar value representing the loss\n",
    "    \"\"\"\n",
    "    n = y_pred.shape[1]\n",
    "    cost = (1./(2*n)) * np.sum((y_true - y_pred) ** 2)\n",
    "    return cost\n",
    "\n",
    "def cost_function_prime(y_true, y_pred):\n",
    "    \"\"\"\n",
    "    Computes the derivative of the loss function w.r.t the activation of the output layer\n",
    "    Parameters:\n",
    "    ---\n",
    "    y_true: ground-truth vector\n",
    "    y_pred: prediction vector\n",
    "    Returns:\n",
    "    ---\n",
    "    cost_prime: derivative of the loss w.r.t. the activation of the output\n",
    "    shape: (n[L], batch_size)    \n",
    "    \"\"\"\n",
    "    cost_prime = y_pred - y_true\n",
    "    return cost_prime"
   ]
  },
  {
   "cell_type": "markdown",
   "metadata": {},
   "source": [
    "### Costruttore rete:"
   ]
  },
  {
   "cell_type": "code",
   "execution_count": 39,
   "metadata": {},
   "outputs": [],
   "source": [
    "class NeuralNetwork(object):     \n",
    "    '''\n",
    "    This is a custom neural netwok package built from scratch with numpy. \n",
    "    It allows training using SGD, inference and live plotting of the decision boundary.\n",
    "    This code is not optimized and should not be used with real-world examples.\n",
    "    It's written for educational purposes only.\n",
    "    The Neural Network as well as its parameters and training method and procedure will \n",
    "    reside in this class.\n",
    "    Parameters\n",
    "    ---\n",
    "    size: list of number of neurons per layer\n",
    "    Examples\n",
    "    ---\n",
    "    >>> import NeuralNetwork\n",
    "    >>> nn = NeuralNetword([2, 3, 4, 1])\n",
    "    \n",
    "    This means :\n",
    "    1 input layer with 2 neurons\n",
    "    1 hidden layer with 3 neurons\n",
    "    1 hidden layer with 4 neurons\n",
    "    1 output layer with 1 neuron\n",
    "    \n",
    "    '''\n",
    "\n",
    "    def __init__(self, size, seed=42):\n",
    "        '''\n",
    "        Instantiate the weights and biases of the network\n",
    "        weights and biases are attributes of the NeuralNetwork class\n",
    "        They are updated during the training\n",
    "        '''\n",
    "        self.seed = seed\n",
    "        np.random.seed(self.seed)\n",
    "        self.size = size\n",
    "        self.weights = [np.random.randn(self.size[i], self.size[i-1]) * np.sqrt(1 / self.size[i-1]) for i in range(1, len(self.size))]\n",
    "        self.biases = [np.random.rand(n, 1) for n in self.size[1:]]\n",
    "\n",
    "    def forward(self, input):\n",
    "        '''\n",
    "        Perform a feed forward computation \n",
    "        Parameters\n",
    "        ---\n",
    "        input: data to be fed to the network with\n",
    "        shape: (input_shape, batch_size)\n",
    "        Returns\n",
    "        ---\n",
    "        a: ouptut activation (output_shape, batch_size)\n",
    "        pre_activations: list of pre-activations per layer\n",
    "        each of shape (n[l], batch_size), where n[l] is the number \n",
    "        of neuron at layer l\n",
    "        activations: list of activations per layer\n",
    "        each of shape (n[l], batch_size), where n[l] is the number \n",
    "        of neuron at layer l\n",
    "        '''\n",
    "        a = input\n",
    "        pre_activations = []\n",
    "        activations = [a]\n",
    "        for w, b in zip(self.weights, self.biases):\n",
    "            z = np.dot(w, a) + b\n",
    "            a  = activation(z)\n",
    "            pre_activations.append(z)\n",
    "            activations.append(a)\n",
    "        return a, pre_activations, activations\n",
    "\n",
    "    def compute_deltas(self, pre_activations, y_true, y_pred):\n",
    "        \"\"\"\n",
    "        Computes a list containing the values of delta for each layer using \n",
    "        a recursion\n",
    "        Parameters:\n",
    "        ---\n",
    "        pre_activations: list of of pre-activations. each corresponding to a layer\n",
    "        y_true: ground truth values of the labels\n",
    "        y_pred: prediction values of the labels\n",
    "        Returns:\n",
    "        ---\n",
    "        deltas: a list of deltas per layer\n",
    "        \n",
    "        \"\"\"\n",
    "        delta_L = cost_function_prime(y_true, y_pred) * activation(pre_activations[-1], derivative=True)\n",
    "        deltas = [0] * (len(self.size) - 1)\n",
    "        deltas[-1] = delta_L\n",
    "        for l in range(len(deltas) - 2, -1, -1):\n",
    "            delta = np.dot(self.weights[l + 1].transpose(), deltas[l + 1]) * activation(pre_activations[l], derivative=True) \n",
    "            deltas[l] = delta\n",
    "        return deltas\n",
    "\n",
    "    def backpropagate(self, deltas, pre_activations, activations):\n",
    "        \"\"\"\n",
    "        Applies back-propagation and computes the gradient of the loss\n",
    "        w.r.t the weights and biases of the network\n",
    "        Parameters:\n",
    "        ---\n",
    "        deltas: list of deltas computed by compute_deltas\n",
    "        pre_activations: a list of pre-activations per layer\n",
    "        activations: a list of activations per layer\n",
    "        Returns:\n",
    "        ---\n",
    "        dW: list of gradients w.r.t. the weight matrices of the network\n",
    "        db: list of gradients w.r.t. the biases (vectors) of the network\n",
    "    \n",
    "        \"\"\"\n",
    "        dW = []\n",
    "        db = []\n",
    "        deltas = [0] + deltas\n",
    "        for l in range(1, len(self.size)):\n",
    "            dW_l = np.dot(deltas[l], activations[l-1].transpose()) \n",
    "            db_l = deltas[l]\n",
    "            dW.append(dW_l)\n",
    "            db.append(np.expand_dims(db_l.mean(axis=1), 1))\n",
    "        return dW, db\n",
    "\n",
    "    def train(self, X, y, batch_size, epochs, learning_rate, validation_split=0.2, print_every=10, tqdm_=True, plot_every=None):\n",
    "        \"\"\"\n",
    "        Trains the network using the gradients computed by back-propagation\n",
    "        Splits the data in train and validation splits\n",
    "        Processes the training data by batches and trains the network using batch gradient descent\n",
    "        Parameters:\n",
    "        ---\n",
    "        X: input data\n",
    "        y: input labels\n",
    "        batch_size: number of data points to process in each batch\n",
    "        epochs: number of epochs for the training\n",
    "        learning_rate: value of the learning rate\n",
    "        validation_split: percentage of the data for validation\n",
    "        print_every: the number of epochs by which the network logs the loss and accuracy metrics for train and validations splits\n",
    "        tqdm_: use tqdm progress-bar\n",
    "        plot_every: the number of epochs by which the network plots the decision boundary\n",
    "    \n",
    "        Returns:\n",
    "        ---\n",
    "        history: dictionary of train and validation metrics per epoch\n",
    "            train_acc: train accuracy\n",
    "            test_acc: validation accuracy\n",
    "            train_loss: train loss\n",
    "            test_loss: validation loss\n",
    "        This history is used to plot the performance of the model\n",
    "        \"\"\"\n",
    "        history_train_losses = []\n",
    "        history_train_accuracies = []\n",
    "        history_test_losses = []\n",
    "        history_test_accuracies = []\n",
    "\n",
    "        x_train, x_test, y_train, y_test = train_test_split(X.T, y.T, test_size=validation_split, )\n",
    "        x_train, x_test, y_train, y_test = x_train.T, x_test.T, y_train.T, y_test.T \n",
    "\n",
    "        if tqdm_:\n",
    "            epoch_iterator = tqdm(range(epochs))\n",
    "        else:\n",
    "            epoch_iterator = range(epochs)\n",
    "\n",
    "        for e in epoch_iterator:\n",
    "            if x_train.shape[1] % batch_size == 0:\n",
    "                n_batches = int(x_train.shape[1] / batch_size)\n",
    "            else:\n",
    "                n_batches = int(x_train.shape[1] / batch_size ) - 1\n",
    "\n",
    "            x_train, y_train = shuffle(x_train.T, y_train.T)\n",
    "            x_train, y_train = x_train.T, y_train.T\n",
    "\n",
    "            batches_x = [x_train[:, batch_size*i:batch_size*(i+1)] for i in range(0, n_batches)]\n",
    "            batches_y = [y_train[:, batch_size*i:batch_size*(i+1)] for i in range(0, n_batches)]\n",
    "\n",
    "            train_losses = []\n",
    "            train_accuracies = []\n",
    "            \n",
    "            test_losses = []\n",
    "            test_accuracies = []\n",
    "\n",
    "            dw_per_epoch = [np.zeros(w.shape) for w in self.weights]\n",
    "            db_per_epoch = [np.zeros(b.shape) for b in self.biases] \n",
    "            \n",
    "            for batch_x, batch_y in zip(batches_x, batches_y):\n",
    "                batch_y_pred, pre_activations, activations = self.forward(batch_x)\n",
    "                deltas = self.compute_deltas(pre_activations, batch_y, batch_y_pred)\n",
    "                dW, db = self.backpropagate(deltas, pre_activations, activations)\n",
    "                for i, (dw_i, db_i) in enumerate(zip(dW, db)):\n",
    "                    dw_per_epoch[i] += dw_i / batch_size\n",
    "                    db_per_epoch[i] += db_i / batch_size\n",
    "\n",
    "                batch_y_train_pred = self.predict(batch_x)\n",
    "\n",
    "                train_loss = cost_function(batch_y, batch_y_train_pred)\n",
    "                train_losses.append(train_loss)\n",
    "                train_accuracy = accuracy_score(batch_y.T, batch_y_train_pred.T)\n",
    "                train_accuracies.append(train_accuracy)\n",
    "\n",
    "                batch_y_test_pred = self.predict(x_test)\n",
    "\n",
    "                test_loss = cost_function(y_test, batch_y_test_pred)\n",
    "                test_losses.append(test_loss)\n",
    "                test_accuracy = accuracy_score(y_test.T, batch_y_test_pred.T)\n",
    "                test_accuracies.append(test_accuracy)\n",
    "\n",
    "\n",
    "            # weight update\n",
    "            for i, (dw_epoch, db_epoch) in enumerate(zip(dw_per_epoch, db_per_epoch)):\n",
    "                self.weights[i] = self.weights[i] - learning_rate * dw_epoch\n",
    "                self.biases[i] = self.biases[i] - learning_rate * db_epoch\n",
    "\n",
    "            history_train_losses.append(np.mean(train_losses))\n",
    "            history_train_accuracies.append(np.mean(train_accuracies))\n",
    "            \n",
    "            history_test_losses.append(np.mean(test_losses))\n",
    "            history_test_accuracies.append(np.mean(test_accuracies))\n",
    "\n",
    "\n",
    "            if not plot_every:\n",
    "                if e % print_every == 0:    \n",
    "                    print('Epoch {} / {} | train loss: {} | train accuracy: {} | val loss : {} | val accuracy : {} '.format(\n",
    "                        e, epochs, np.round(np.mean(train_losses), 3), np.round(np.mean(train_accuracies), 3), \n",
    "                        np.round(np.mean(test_losses), 3),  np.round(np.mean(test_accuracies), 3)))\n",
    "            else:\n",
    "                if e % plot_every == 0:\n",
    "                    self.plot_decision_regions(x_train, y_train, e, \n",
    "                                                np.round(np.mean(train_losses), 4), \n",
    "                                                np.round(np.mean(test_losses), 4),\n",
    "                                                np.round(np.mean(train_accuracies), 4), \n",
    "                                                np.round(np.mean(test_accuracies), 4), \n",
    "                                                )\n",
    "                    plt.show()                    \n",
    "                    display.display(plt.gcf())\n",
    "                    display.clear_output(wait=True)\n",
    "\n",
    "        history = {'epochs': epochs,\n",
    "                   'train_loss': history_train_losses, \n",
    "                   'train_acc': history_train_accuracies,\n",
    "                   'test_loss': history_test_losses,\n",
    "                   'test_acc': history_test_accuracies\n",
    "                   }\n",
    "        return history\n",
    "\n",
    "    def predict(self, a):\n",
    "        '''\n",
    "        Use the current state of the network to make predictions\n",
    "        Parameters:\n",
    "        ---\n",
    "        a: input data, shape: (input_shape, batch_size)\n",
    "        Returns:\n",
    "        ---\n",
    "        predictions: vector of output predictions\n",
    "        '''\n",
    "        for w, b in zip(self.weights, self.biases):\n",
    "            z = np.dot(w, a) + b\n",
    "            a = activation(z)\n",
    "        predictions = (a > 0.5).astype(int)\n",
    "        return predictions"
   ]
  },
  {
   "cell_type": "code",
   "execution_count": 40,
   "metadata": {},
   "outputs": [],
   "source": [
    "nn = NeuralNetwork([17,1,1])"
   ]
  },
  {
   "cell_type": "code",
   "execution_count": 41,
   "metadata": {},
   "outputs": [
    {
     "data": {
      "text/plain": [
       "(17, 124)"
      ]
     },
     "execution_count": 41,
     "metadata": {},
     "output_type": "execute_result"
    }
   ],
   "source": [
    "monk_dataset.T.shape"
   ]
  },
  {
   "cell_type": "code",
   "execution_count": 42,
   "metadata": {},
   "outputs": [
    {
     "data": {
      "text/plain": [
       "(1, 124)"
      ]
     },
     "execution_count": 42,
     "metadata": {},
     "output_type": "execute_result"
    }
   ],
   "source": [
    "labels.T.shape"
   ]
  },
  {
   "cell_type": "code",
   "execution_count": 43,
   "metadata": {},
   "outputs": [
    {
     "name": "stderr",
     "output_type": "stream",
     "text": [
      "\r",
      "  0%|                                                                                          | 0/200 [00:00<?, ?it/s]"
     ]
    },
    {
     "name": "stdout",
     "output_type": "stream",
     "text": [
      "Epoch 0 / 200 | train loss: 0.244 | train accuracy: 0.512 | val loss : 0.263 | val accuracy : 0.474 \n"
     ]
    },
    {
     "name": "stderr",
     "output_type": "stream",
     "text": [
      "  8%|██████▍                                                                          | 16/200 [00:00<00:06, 28.15it/s]"
     ]
    },
    {
     "name": "stdout",
     "output_type": "stream",
     "text": [
      "Epoch 10 / 200 | train loss: 0.244 | train accuracy: 0.512 | val loss : 0.263 | val accuracy : 0.474 \n"
     ]
    },
    {
     "name": "stderr",
     "output_type": "stream",
     "text": [
      " 12%|██████████▏                                                                      | 25/200 [00:00<00:06, 28.76it/s]"
     ]
    },
    {
     "name": "stdout",
     "output_type": "stream",
     "text": [
      "Epoch 20 / 200 | train loss: 0.244 | train accuracy: 0.512 | val loss : 0.263 | val accuracy : 0.474 \n"
     ]
    },
    {
     "name": "stderr",
     "output_type": "stream",
     "text": [
      " 18%|██████████████▏                                                                  | 35/200 [00:01<00:05, 29.15it/s]"
     ]
    },
    {
     "name": "stdout",
     "output_type": "stream",
     "text": [
      "Epoch 30 / 200 | train loss: 0.122 | train accuracy: 0.756 | val loss : 0.132 | val accuracy : 0.737 \n"
     ]
    },
    {
     "name": "stderr",
     "output_type": "stream",
     "text": [
      " 22%|█████████████████▊                                                               | 44/200 [00:01<00:05, 29.01it/s]"
     ]
    },
    {
     "name": "stdout",
     "output_type": "stream",
     "text": [
      "Epoch 40 / 200 | train loss: 0.128 | train accuracy: 0.744 | val loss : 0.118 | val accuracy : 0.763 \n"
     ]
    },
    {
     "name": "stderr",
     "output_type": "stream",
     "text": [
      " 28%|██████████████████████▋                                                          | 56/200 [00:01<00:04, 29.00it/s]"
     ]
    },
    {
     "name": "stdout",
     "output_type": "stream",
     "text": [
      "Epoch 50 / 200 | train loss: 0.11 | train accuracy: 0.779 | val loss : 0.053 | val accuracy : 0.895 \n"
     ]
    },
    {
     "name": "stderr",
     "output_type": "stream",
     "text": [
      " 32%|██████████████████████████▎                                                      | 65/200 [00:02<00:04, 28.93it/s]"
     ]
    },
    {
     "name": "stdout",
     "output_type": "stream",
     "text": [
      "Epoch 60 / 200 | train loss: 0.093 | train accuracy: 0.814 | val loss : 0.039 | val accuracy : 0.921 \n"
     ]
    },
    {
     "name": "stderr",
     "output_type": "stream",
     "text": [
      " 38%|███████████████████████████████▏                                                 | 77/200 [00:02<00:04, 29.34it/s]"
     ]
    },
    {
     "name": "stdout",
     "output_type": "stream",
     "text": [
      "Epoch 70 / 200 | train loss: 0.093 | train accuracy: 0.814 | val loss : 0.053 | val accuracy : 0.895 \n"
     ]
    },
    {
     "name": "stderr",
     "output_type": "stream",
     "text": [
      " 43%|██████████████████████████████████▊                                              | 86/200 [00:02<00:03, 29.17it/s]"
     ]
    },
    {
     "name": "stdout",
     "output_type": "stream",
     "text": [
      "Epoch 80 / 200 | train loss: 0.093 | train accuracy: 0.814 | val loss : 0.053 | val accuracy : 0.895 \n"
     ]
    },
    {
     "name": "stderr",
     "output_type": "stream",
     "text": [
      " 48%|██████████████████████████████████████▉                                          | 96/200 [00:03<00:03, 29.29it/s]"
     ]
    },
    {
     "name": "stdout",
     "output_type": "stream",
     "text": [
      "Epoch 90 / 200 | train loss: 0.093 | train accuracy: 0.814 | val loss : 0.053 | val accuracy : 0.895 \n"
     ]
    },
    {
     "name": "stderr",
     "output_type": "stream",
     "text": [
      " 52%|██████████████████████████████████████████                                      | 105/200 [00:03<00:03, 26.39it/s]"
     ]
    },
    {
     "name": "stdout",
     "output_type": "stream",
     "text": [
      "Epoch 100 / 200 | train loss: 0.093 | train accuracy: 0.814 | val loss : 0.066 | val accuracy : 0.868 \n"
     ]
    },
    {
     "name": "stderr",
     "output_type": "stream",
     "text": [
      " 57%|██████████████████████████████████████████████                                  | 115/200 [00:04<00:03, 26.16it/s]"
     ]
    },
    {
     "name": "stdout",
     "output_type": "stream",
     "text": [
      "Epoch 110 / 200 | train loss: 0.087 | train accuracy: 0.826 | val loss : 0.066 | val accuracy : 0.868 \n"
     ]
    },
    {
     "name": "stderr",
     "output_type": "stream",
     "text": [
      " 63%|██████████████████████████████████████████████████▍                             | 126/200 [00:04<00:02, 28.71it/s]"
     ]
    },
    {
     "name": "stdout",
     "output_type": "stream",
     "text": [
      "Epoch 120 / 200 | train loss: 0.087 | train accuracy: 0.826 | val loss : 0.066 | val accuracy : 0.868 \n"
     ]
    },
    {
     "name": "stderr",
     "output_type": "stream",
     "text": [
      " 68%|██████████████████████████████████████████████████████▍                         | 136/200 [00:04<00:02, 29.32it/s]"
     ]
    },
    {
     "name": "stdout",
     "output_type": "stream",
     "text": [
      "Epoch 130 / 200 | train loss: 0.087 | train accuracy: 0.826 | val loss : 0.066 | val accuracy : 0.868 \n"
     ]
    },
    {
     "name": "stderr",
     "output_type": "stream",
     "text": [
      " 73%|██████████████████████████████████████████████████████████▍                     | 146/200 [00:05<00:01, 29.78it/s]"
     ]
    },
    {
     "name": "stdout",
     "output_type": "stream",
     "text": [
      "Epoch 140 / 200 | train loss: 0.087 | train accuracy: 0.826 | val loss : 0.066 | val accuracy : 0.868 \n"
     ]
    },
    {
     "name": "stderr",
     "output_type": "stream",
     "text": [
      " 78%|██████████████████████████████████████████████████████████████▍                 | 156/200 [00:05<00:01, 29.71it/s]"
     ]
    },
    {
     "name": "stdout",
     "output_type": "stream",
     "text": [
      "Epoch 150 / 200 | train loss: 0.087 | train accuracy: 0.826 | val loss : 0.066 | val accuracy : 0.868 \n"
     ]
    },
    {
     "name": "stderr",
     "output_type": "stream",
     "text": [
      " 84%|██████████████████████████████████████████████████████████████████▊             | 167/200 [00:05<00:01, 29.95it/s]"
     ]
    },
    {
     "name": "stdout",
     "output_type": "stream",
     "text": [
      "Epoch 160 / 200 | train loss: 0.081 | train accuracy: 0.837 | val loss : 0.066 | val accuracy : 0.868 \n"
     ]
    },
    {
     "name": "stderr",
     "output_type": "stream",
     "text": [
      " 86%|█████████████████████████████████████████████████████████████████████▏          | 173/200 [00:06<00:00, 29.72it/s]"
     ]
    },
    {
     "name": "stdout",
     "output_type": "stream",
     "text": [
      "Epoch 170 / 200 | train loss: 0.081 | train accuracy: 0.837 | val loss : 0.066 | val accuracy : 0.868 \n"
     ]
    },
    {
     "name": "stderr",
     "output_type": "stream",
     "text": [
      " 93%|██████████████████████████████████████████████████████████████████████████▍     | 186/200 [00:06<00:00, 29.07it/s]"
     ]
    },
    {
     "name": "stdout",
     "output_type": "stream",
     "text": [
      "Epoch 180 / 200 | train loss: 0.081 | train accuracy: 0.837 | val loss : 0.066 | val accuracy : 0.868 \n"
     ]
    },
    {
     "name": "stderr",
     "output_type": "stream",
     "text": [
      " 98%|██████████████████████████████████████████████████████████████████████████████  | 195/200 [00:06<00:00, 29.12it/s]"
     ]
    },
    {
     "name": "stdout",
     "output_type": "stream",
     "text": [
      "Epoch 190 / 200 | train loss: 0.087 | train accuracy: 0.826 | val loss : 0.066 | val accuracy : 0.868 \n"
     ]
    },
    {
     "name": "stderr",
     "output_type": "stream",
     "text": [
      "100%|████████████████████████████████████████████████████████████████████████████████| 200/200 [00:06<00:00, 28.80it/s]\n"
     ]
    }
   ],
   "source": [
    "mynet = nn.train(X=monk_dataset.T, y=labels.T, batch_size=1, epochs=200, learning_rate=0.3, validation_split=0.3, print_every=10, tqdm_=True, plot_every=None)"
   ]
  },
  {
   "cell_type": "markdown",
   "metadata": {},
   "source": [
    "⬆ [documentation for progress bar here](https://pypi.org/project/tqdm/)"
   ]
  },
  {
   "cell_type": "code",
   "execution_count": 44,
   "metadata": {},
   "outputs": [],
   "source": [
    "def plot_history(history):\n",
    "    n = history['epochs']\n",
    "    plt.figure(figsize=(15, 5))\n",
    "    plt.subplot(1, 2, 1)\n",
    "    n = 4000\n",
    "    plt.plot(range(history['epochs'])[:n], history['train_loss'][:n], label='train_loss')\n",
    "    plt.plot(range(history['epochs'])[:n], history['test_loss'][:n], label='test_loss')\n",
    "    plt.title('train & test loss')\n",
    "    plt.grid(1)\n",
    "    plt.xlabel('epochs')\n",
    "    plt.legend()\n",
    "\n",
    "    plt.subplot(1, 2, 2)\n",
    "    plt.plot(range(history['epochs'])[:n], history['train_acc'][:n], label='train_acc')\n",
    "    plt.plot(range(history['epochs'])[:n], history['test_acc'][:n], label='test_acc')\n",
    "    plt.title('train & test accuracy')\n",
    "    plt.grid(1)\n",
    "    plt.xlabel('epochs')\n",
    "    plt.legend()"
   ]
  },
  {
   "cell_type": "code",
   "execution_count": 45,
   "metadata": {},
   "outputs": [
    {
     "data": {
      "image/png": "[encoded data removed]",
      "text/plain": [
       "<Figure size 1080x360 with 2 Axes>"
      ]
     },
     "metadata": {
      "needs_background": "light"
     },
     "output_type": "display_data"
    }
   ],
   "source": [
    "plot_history(mynet)"
   ]
  }
 ],
 "metadata": {
  "kernelspec": {
   "display_name": "Python 3",
   "language": "python",
   "name": "python3"
  },
  "language_info": {
   "codemirror_mode": {
    "name": "ipython",
    "version": 3
   },
   "file_extension": ".py",
   "mimetype": "text/x-python",
   "name": "python",
   "nbconvert_exporter": "python",
   "pygments_lexer": "ipython3",
   "version": "3.8.5"
  }
 },
 "nbformat": 4,
 "nbformat_minor": 4
}
